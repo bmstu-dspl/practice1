{
 "cells": [
  {
   "cell_type": "markdown",
   "metadata": {},
   "source": [
    "### Задача 1: Извлечение адресов электронной почты\n",
    "\n",
    "#### Описание:\n",
    "\n",
    "Напишите функцию `extract_emails(text)`, которая принимает строку и возвращает список всех действительных адресов электронной почты, найденных в тексте. Адреса электронной почты должны быть в формате `username@domain.extension`.\n",
    "\n",
    "#### Требования:\n",
    "\n",
    "- `username`: может содержать буквенно-цифровые символы, подчеркивания, точки или дефисы.\n",
    "- `domain`: буквенно-цифровые символы и точки.\n",
    "- `extension`: от 2 до 6 букв.\n",
    "\n",
    "#### Сигнатура функции:\n",
    "\n",
    "```python\n",
    "def extract_emails(text: str) -> list:\n",
    "    pass\n",
    "```\n",
    "\n",
    "Пример применения:\n",
    "\n",
    "```python\n",
    "extract_emails(\"Please contact us at support@example.com and sales@example.co.uk.\")\n",
    "# Output: ['support@example.com', 'sales@example.co.uk']\n",
    "```"
   ]
  },
  {
   "cell_type": "code",
   "execution_count": null,
   "metadata": {},
   "outputs": [],
   "source": [
    "def extract_emails(smth):\n",
    "  pass"
   ]
  },
  {
   "cell_type": "markdown",
   "metadata": {},
   "source": [
    "### Задача 2: Извлечение временных интервалов\n",
    "\n",
    "#### Описание:\n",
    "\n",
    "Напишите функцию `extract_durations(text)`, которая извлекает и возвращает все допустимые временные интервалы в формате:\n",
    "\n",
    "- `Xh Ym Zs` (где X, Y, Z - целые числа, представляющие часы, минуты и секунды).\n",
    "- Все части необязательны, но хотя бы один из компонентов (часы, минуты или секунды) должен присутствовать.\n",
    "\n",
    "#### Требования:\n",
    "\n",
    "- Часы (`h`): 0 или более часов (например, 1ч, 0ч, 10ч).\n",
    "- Минуты (`m`): От 0 до 59 минут.\n",
    "- Секунды (``s``): От 0 до 59 секунд.\n",
    "- Компоненты могут располагаться в любом порядке (например, `1ч 30м`, `45м 15с` или просто `20с`).\n",
    "\n",
    "#### Сигнатура функции:\n",
    "\n",
    "```python\n",
    "def extract_durations(text: str) -> list:\n",
    "    pass\n",
    "```\n",
    "\n",
    "#### Пример:\n",
    "\n",
    "```python\n",
    "extract_durations(\"The race lasted 1h 45m 10s. Another event was 30m or 20s.\")\n",
    "# Output: ['1h 45m 10s', '30m', '20s']\n",
    "\n",
    "extract_durations(\"Invalid: 1h 60m 10s, 20m 75s.\")\n",
    "# Output: []\n",
    "```"
   ]
  },
  {
   "cell_type": "code",
   "execution_count": null,
   "metadata": {},
   "outputs": [],
   "source": [
    "def extract_durations(text: str) -> list:\n",
    "    pass"
   ]
  }
 ],
 "metadata": {
  "kernelspec": {
   "display_name": "mlmethods",
   "language": "python",
   "name": "python3"
  },
  "language_info": {
   "name": "python",
   "version": "3.11.9"
  }
 },
 "nbformat": 4,
 "nbformat_minor": 2
}
