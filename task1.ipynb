{
 "cells": [
  {
   "cell_type": "code",
   "execution_count": 2,
   "metadata": {},
   "outputs": [],
   "source": [
    "def clear_card_number(card_number):\n",
    "  card_translation = str.maketrans({'-': '', ' ': ''})\n",
    "  return card_number.translate(card_translation)"
   ]
  },
  {
   "cell_type": "code",
   "execution_count": 3,
   "metadata": {},
   "outputs": [],
   "source": [
    "\n",
    "def verify_luhn(str_of_digits):\n",
    "  sum_of_odd_digits = 0\n",
    "  card_number_reversed = str_of_digits[::-1]\n",
    "  odd_digits = card_number_reversed[::2]\n",
    "\n",
    "  for digit in odd_digits:\n",
    "      sum_of_odd_digits += int(digit)\n",
    "\n",
    "  sum_of_even_digits = 0\n",
    "  even_digits = card_number_reversed[1::2]\n",
    "  for digit in even_digits:\n",
    "      number = int(digit) * 2\n",
    "      if number >= 10:\n",
    "          number = (number // 10) + (number % 10)\n",
    "      sum_of_even_digits += number\n",
    "  total = sum_of_odd_digits + sum_of_even_digits\n",
    "  return total % 10 == 0"
   ]
  },
  {
   "cell_type": "code",
   "execution_count": 4,
   "metadata": {},
   "outputs": [],
   "source": [
    "def verify(card_number):\n",
    "  clean = clear_card_number(card_number)\n",
    "  return verify_luhn(clean)"
   ]
  }
 ],
 "metadata": {
  "kernelspec": {
   "display_name": "mlmethods",
   "language": "python",
   "name": "python3"
  },
  "language_info": {
   "codemirror_mode": {
    "name": "ipython",
    "version": 3
   },
   "file_extension": ".py",
   "mimetype": "text/x-python",
   "name": "python",
   "nbconvert_exporter": "python",
   "pygments_lexer": "ipython3",
   "version": "3.11.9"
  }
 },
 "nbformat": 4,
 "nbformat_minor": 2
}
